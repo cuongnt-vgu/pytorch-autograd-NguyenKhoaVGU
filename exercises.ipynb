{
 "cells": [
  {
   "cell_type": "code",
   "execution_count": 1,
   "metadata": {},
   "outputs": [],
   "source": [
    "from torch import nn\n",
    "import torch"
   ]
  },
  {
   "cell_type": "markdown",
   "metadata": {},
   "source": [
    "##### Attention:\n",
    "For this lab, there are no local answers for the questions in learntools. However, there are some assertions for the first 4 questions. You should pass all of the assertions before submitting to the autograding.\n",
    "\n",
    "Some of the questions use mathematical symbols and equations to depict the scenario. These are just some basic \"formal\" definitions and you should understand them. In case you haven't understood them, read again and give yourself sometime to ponder. If there is any error or details in the questions that heavily confuse you, please post your concerns on Google Classroom. "
   ]
  },
  {
   "cell_type": "markdown",
   "metadata": {},
   "source": [
    "## Questions"
   ]
  },
  {
   "cell_type": "markdown",
   "metadata": {},
   "source": [
    "### Q1: Given a function $f(x) = x^2 + 3x + 8$, return the gradient of $x$ when $x=2.0$ using pytorch autograd. The gradient tensor should have type torch.float32 and dim=0."
   ]
  },
  {
   "cell_type": "code",
   "execution_count": 26,
   "metadata": {},
   "outputs": [
    {
     "ename": "AttributeError",
     "evalue": "'function' object has no attribute 'check'",
     "output_type": "error",
     "traceback": [
      "\u001b[31m---------------------------------------------------------------------------\u001b[39m",
      "\u001b[31mAttributeError\u001b[39m                            Traceback (most recent call last)",
      "\u001b[36mCell\u001b[39m\u001b[36m \u001b[39m\u001b[32mIn[26]\u001b[39m\u001b[32m, line 12\u001b[39m\n\u001b[32m     10\u001b[39m ex1_sol = exercise_1()\n\u001b[32m     11\u001b[39m \u001b[38;5;28;01massert\u001b[39;00m torch.equal(ex1_sol, torch.tensor(\u001b[32m7.0\u001b[39m))\n\u001b[32m---> \u001b[39m\u001b[32m12\u001b[39m \u001b[43mexercise_1\u001b[49m\u001b[43m.\u001b[49m\u001b[43mcheck\u001b[49m()\n",
      "\u001b[31mAttributeError\u001b[39m: 'function' object has no attribute 'check'"
     ]
    }
   ],
   "source": [
    "import torch\n",
    "\n",
    "def exercise_1() -> torch.Tensor:\n",
    "    x = torch.tensor(2.0, dtype=torch.float32, requires_grad=True)\n",
    "    f = x**2 + 3 * x + 8\n",
    "    f.backward()\n",
    "    return x.grad\n",
    "\n",
    "# Test\n",
    "ex1_sol = exercise_1()\n",
    "assert torch.equal(ex1_sol, torch.tensor(7.0))\n",
    "exercise_1.check()\n"
   ]
  },
  {
   "cell_type": "markdown",
   "metadata": {},
   "source": [
    "### Q2: A typical layer in a Neural Network would look like $f(x) = w_1 x_1 + w_2 x_2 + w_3 x_3 + ... + b$, where $w_j$ is the j-th weight of the function and $b$ is its bias. This function outputs a result for a multi-dimension input, where $x_j$ is the j-th feature of the input. Implement this function, return the gradients of each weight for a given input `x` and the output using `tuple` with the formar `(output, weight_grads_tensor)`. The weights should be randomized using `torch.randn()` and the bias must be set to $5.0$. The input used by the autograder will be the same size as the one given below."
   ]
  },
  {
   "cell_type": "code",
   "execution_count": 13,
   "metadata": {},
   "outputs": [],
   "source": [
    "import torch\n",
    "\n",
    "def exercise_2(x) -> tuple:\n",
    "    torch.manual_seed(0)\n",
    "    x = x.to(dtype=torch.float32)\n",
    "    w = torch.randn(x.shape[0], dtype=torch.float32, requires_grad=True)\n",
    "    b = torch.tensor(5.0, dtype=torch.float32)\n",
    "    output = torch.dot(w, x) + b\n",
    "    output.backward()\n",
    "    return (output, w.grad)\n",
    "\n",
    "x = torch.tensor([1, 2, 3, 4, 5])\n",
    "ex2_sol = exercise_2(x)\n",
    "\n",
    "# Assertions\n",
    "assert (ex2_sol[0] - torch.tensor(-3.7311) < 1e-4).item()\n",
    "assert torch.equal(ex2_sol[1], torch.tensor([1, 2, 3, 4, 5], dtype=torch.float32))\n"
   ]
  },
  {
   "cell_type": "markdown",
   "metadata": {},
   "source": [
    "### Q3: Suppose each feature $x_j$ needs a separate function $f_j(x_j)$, where $f_j(x_j) = w_j x_j + b_j$. In other words, each feature requires a function, which has a separate set of 1 weight and 1 bias. Therefore, the output $y$ of your function $G(x)=[f_1(x_1), f_2(x_2), ..., f_n(x_n)]$ should be $y = [(w_1 x_1 + b_1), (w_2 x_2 + b_2), ..., (w_n x_n + b_n)]$ (**note:** these are matrices written lazily with markdown). Implement the function $G(x)$, return the output and the gradient sets for each function for a given `x`. The weights should be randomized using `torch.randn()`, and the bias is the same as $j$ of $f_j()$ (for example: $b_1 = 1.0$, $b_2 = 2.0$). The input used by the autograder will be the same size as the one given below."
   ]
  },
  {
   "cell_type": "code",
   "execution_count": 21,
   "metadata": {},
   "outputs": [],
   "source": [
    "import torch\n",
    "\n",
    "def exercise_3(x) -> tuple:\n",
    "    torch.manual_seed(0)  # Set random seed\n",
    "\n",
    "    # Ensure x is float32\n",
    "    x = x.to(dtype=torch.float32)\n",
    "\n",
    "    # Create individual weights with requires_grad=True\n",
    "    weights = torch.randn(x.shape[0], dtype=torch.float32, requires_grad=True)\n",
    "\n",
    "    # Biases are fixed as [1.0, 2.0, ..., n.0]\n",
    "    biases = torch.tensor([float(i + 1) for i in range(x.shape[0])], dtype=torch.float32)\n",
    "\n",
    "    # Compute output y = [w_j * x_j + b_j for each j]\n",
    "    output = weights * x + biases\n",
    "\n",
    "    # Use backward on a scalar, so we sum the outputs\n",
    "    output.sum().backward()\n",
    "\n",
    "    # Return the full output and weight gradients\n",
    "    return (output, weights.grad)\n",
    "\n",
    "# Test case\n",
    "x = torch.tensor([1, 2, 3, 4, 5])\n",
    "ex3_sol = exercise_3(x)\n",
    "\n",
    "# Assertions\n",
    "assert torch.all((ex3_sol[0] - torch.tensor([ 2.5410,  1.4131, -3.5364,  6.2737, -0.4226 ], dtype=torch.float32)) < 5e-4).item()\n",
    "assert torch.equal(ex3_sol[1], torch.tensor([1, 2, 3, 4, 5], dtype=torch.float32))\n",
    "\n"
   ]
  },
  {
   "cell_type": "markdown",
   "metadata": {},
   "source": [
    "### Q4: Using the function $f(x)$ similar to the one in question 2, implement the function with random weights and bias (must use `torch.manual_seed(0)` before each initialization). Calculate the Mean Squared Error between the `target` and your function prediction on the `data` as a loss metric, then return a tuple containing the gradients of your function weights and bias based on the calculated loss."
   ]
  },
  {
   "cell_type": "code",
   "execution_count": 38,
   "metadata": {},
   "outputs": [],
   "source": [
    "import torch\n",
    "\n",
    "def exercise_4(data, target) -> tuple:\n",
    "    torch.manual_seed(0)\n",
    "    data = data.to(dtype=torch.float32)\n",
    "    target = target.to(dtype=torch.float32)\n",
    "    weights = torch.randn(data.shape[0], dtype=torch.float32, requires_grad=True)\n",
    "    bias = torch.randn(1, dtype=torch.float32, requires_grad=True)\n",
    "    output = torch.dot(weights, data) + bias\n",
    "    loss = torch.nn.functional.mse_loss(output, target)\n",
    "    loss.backward()\n",
    "    return weights.grad, bias.grad\n",
    "\n",
    "data = torch.tensor([2.0, 3.0, 4.0, 5.0, 6.0, 7.0, 8.0, 9.0, 10.0, 11.0])\n",
    "target = torch.tensor([2.0])\n",
    "ex4_sol = exercise_4(data, target)\n",
    "\n",
    "assert ex4_sol[0].dim() == 1 and ex4_sol[1].dim() == 1\n",
    "assert torch.all((ex4_sol[0] - torch.tensor([-85.1518, -127.7277, -170.3036, -212.8795, -255.4553, -298.0312, -340.6071, -383.1830, -425.7589, -468.3348], dtype=torch.float32)) < 5e-4)\n",
    "assert torch.all((ex4_sol[1] - torch.tensor([-42.5759], dtype=torch.float32)) < 5e-4)\n"
   ]
  },
  {
   "cell_type": "markdown",
   "metadata": {},
   "source": [
    "### Q5: This question worth 40% the points of this lab. Your solution for this question will be graded manually by the TAs, hence you will be informed later for the total points for this lab after the deadline has been met."
   ]
  },
  {
   "cell_type": "markdown",
   "metadata": {},
   "source": [
    "**Note**: This question will not focus on getting the right results as your implementation is more important. Therefore there will be no local answer or autograding."
   ]
  },
  {
   "cell_type": "markdown",
   "metadata": {},
   "source": [
    "#### Create a small neural network consisting 2 Linear layers, each followed by a Sigmoid activation function. The template code has been provided below including the return format (`x` should be replaced by the final `tensor` after the forward pass). Your code must use layers and functions provided by `pytorch`. Initialize all necessary components that can be used during the training phase including a Binary Cross Entropy Loss function and a Gradient Descent optimizer. Train your model for 2 epochs with a proper train loop, then make a prediction on a given `val_x` and return your prediction."
   ]
  },
  {
   "cell_type": "markdown",
   "metadata": {},
   "source": [
    "**Note**: the first Linear Layer can have any `in_features` and `out_features`, but the last Linear Layer must have `out_features=2`. Your model will consume the whole input for each epoch, so you don't need to separate the input into batches."
   ]
  },
  {
   "cell_type": "markdown",
   "metadata": {},
   "source": [
    "*Context*: This part is not necessary for your implementation, but it could help you to understand the work that your network is simulating. The `train_x` consists grades for 5 subjects of 20 students, with the minimum grade is 1 and the maximum is 10. The problem is a classification task, when your model predicts if a student is good or bad based on their 5 grades. That is the reason why the final layer must have 2 output features, which correspond to the 2 classes \"good\" and \"bad\"."
   ]
  },
  {
   "cell_type": "code",
   "execution_count": 30,
   "metadata": {},
   "outputs": [
    {
     "name": "stdout",
     "output_type": "stream",
     "text": [
      "Validation predictions (probs for classes 0 & 1):\n",
      "tensor([[0.5783, 0.5962],\n",
      "        [0.5758, 0.5477],\n",
      "        [0.5741, 0.5279],\n",
      "        [0.5739, 0.5679],\n",
      "        [0.5937, 0.6010],\n",
      "        [0.5533, 0.5262],\n",
      "        [0.5334, 0.5667],\n",
      "        [0.5590, 0.5914],\n",
      "        [0.6058, 0.5682],\n",
      "        [0.5977, 0.5618]])\n"
     ]
    }
   ],
   "source": [
    "import torch\n",
    "import torch.nn as nn\n",
    "import torch.optim as optim\n",
    "\n",
    "def exercise_5(train_x, train_y, val_x) -> torch.Tensor:\n",
    "    torch.manual_seed(0)\n",
    "    \n",
    "    class MyNetwork(nn.Module):\n",
    "        def __init__(self):\n",
    "            super(MyNetwork, self).__init__()\n",
    "            self.layer1 = nn.Linear(train_x.shape[1], 10) \n",
    "            self.layer2 = nn.Linear(10, 2)\n",
    "            self.sigmoid = nn.Sigmoid()\n",
    "        \n",
    "        def forward(self, x):\n",
    "            x = self.sigmoid(self.layer1(x))\n",
    "            x = self.sigmoid(self.layer2(x))\n",
    "            return x\n",
    "\n",
    " \n",
    "    model = MyNetwork()\n",
    "    loss_fn = nn.BCELoss()\n",
    "    optimizer = optim.SGD(model.parameters(), lr=0.01)\n",
    "\n",
    "\n",
    "    targets = torch.stack([1.0 - train_y, train_y], dim=1)\n",
    "\n",
    "\n",
    "    for epoch in range(2):\n",
    "        model.train()\n",
    "        optimizer.zero_grad()\n",
    "        outputs = model(train_x)           \n",
    "        loss = loss_fn(outputs, targets)    \n",
    "        loss.backward()\n",
    "        optimizer.step()\n",
    "\n",
    "    model.eval()\n",
    "    with torch.no_grad():\n",
    "        preds = model(val_x)  \n",
    "\n",
    "    return preds\n",
    "\n",
    "\n",
    "if __name__ == \"__main__\":\n",
    "    train_x = torch.randint(1, 10, (20, 5), dtype=torch.float32)\n",
    "    train_y = (train_x.sum(1) > 30).float()\n",
    "    val_x   = torch.randint(3, 10, (10, 5), dtype=torch.float32)\n",
    "\n",
    "    ex5_sol = exercise_5(train_x, train_y, val_x)\n",
    "    print(\"Validation predictions (probs for classes 0 & 1):\")\n",
    "    print(ex5_sol)\n"
   ]
  }
 ],
 "metadata": {
  "kernelspec": {
   "display_name": "Python 3",
   "language": "python",
   "name": "python3"
  },
  "language_info": {
   "codemirror_mode": {
    "name": "ipython",
    "version": 3
   },
   "file_extension": ".py",
   "mimetype": "text/x-python",
   "name": "python",
   "nbconvert_exporter": "python",
   "pygments_lexer": "ipython3",
   "version": "3.12.1"
  }
 },
 "nbformat": 4,
 "nbformat_minor": 2
}
